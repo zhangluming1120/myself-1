{
 "cells": [
  {
   "cell_type": "code",
   "execution_count": 1,
   "metadata": {},
   "outputs": [
    {
     "name": "stdout",
     "output_type": "stream",
     "text": [
      "There are 12 words in the string.\n",
      "The most frequent character is   which appeared 11 times\n"
     ]
    }
   ],
   "source": [
    "class MyString:\n",
    "\n",
    "    def __init__(self, myString):\n",
    "        self.__myString = myString\n",
    "\n",
    "    def countWord(self):\n",
    "        count = len(self.__myString.split())\n",
    "        return count\n",
    "\n",
    "    def findMostFrequentChar(self):\n",
    "        counter = {}\n",
    "        # Instead of performing various modifications on the string\n",
    "        # one can instead filter all the undesired chars.\n",
    "        # new_string = self.__myString.replace(' ', '').lower()\n",
    "        new_string = list(filter(lambda x: 'a' >= x <= 'z', self.__myString.lower()))\n",
    "        for char in new_string:\n",
    "\n",
    "            if char in counter:\n",
    "                counter[char] += 1\n",
    "            else:\n",
    "                counter[char] = 1\n",
    "\n",
    "        key, value = max(counter.items(), key=lambda x:x[1])\n",
    "        return value, key\n",
    "\n",
    "\n",
    "def main():\n",
    "    aString = MyString(\"This is a super long long long string. Please help count me\")\n",
    "    print(\"There are\", aString.countWord(), \"words in the string.\")\n",
    "\n",
    "    count, letter = aString.findMostFrequentChar()\n",
    "    print(\"The most frequent character is\", letter, \"which appeared\", count, \"times\")\n",
    "\n",
    "main()"
   ]
  },
  {
   "cell_type": "code",
   "execution_count": null,
   "metadata": {},
   "outputs": [],
   "source": []
  }
 ],
 "metadata": {
  "kernelspec": {
   "display_name": "Python 3",
   "language": "python",
   "name": "python3"
  },
  "language_info": {
   "codemirror_mode": {
    "name": "ipython",
    "version": 3
   },
   "file_extension": ".py",
   "mimetype": "text/x-python",
   "name": "python",
   "nbconvert_exporter": "python",
   "pygments_lexer": "ipython3",
   "version": "3.6.4"
  }
 },
 "nbformat": 4,
 "nbformat_minor": 2
}
