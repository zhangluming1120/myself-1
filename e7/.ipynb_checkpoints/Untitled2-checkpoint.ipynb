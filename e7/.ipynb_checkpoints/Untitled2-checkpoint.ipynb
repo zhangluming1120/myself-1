{
 "cells": [
  {
   "cell_type": "code",
   "execution_count": 1,
   "metadata": {},
   "outputs": [],
   "source": [
    "from sklearn import datasets, linear_model\n",
    "from sklearn.model_selection import train_test_split\n",
    "from sklearn.naive_bayes import GaussianNB\n",
    "from sklearn.metrics import accuracy_score\n",
    "import skimage.color as skc\n",
    "from sklearn.pipeline import make_pipeline\n",
    "from sklearn.preprocessing import FunctionTransformer\n",
    "import numpy as np\n",
    "import pandas as pd\n",
    "import matplotlib.pyplot as plt\n",
    "from skimage.color import lab2rgb\n",
    "import sys"
   ]
  },
  {
   "cell_type": "code",
   "execution_count": 2,
   "metadata": {},
   "outputs": [],
   "source": [
    "# representative RGB colours for each label, for nice display\n",
    "COLOUR_RGB = {\n",
    "    'red': (255, 0, 0),\n",
    "    'orange': (255, 114, 0),\n",
    "    'yellow': (255, 255, 0),\n",
    "    'green': (0, 230, 0),\n",
    "    'blue': (0, 0, 255),\n",
    "    'purple': (187, 0, 187),\n",
    "    'brown': (117, 60, 0),\n",
    "    'pink': (255, 187, 187),\n",
    "    'black': (0, 0, 0),\n",
    "    'grey': (150, 150, 150),\n",
    "    'white': (255, 255, 255),\n",
    "}\n",
    "name_to_rgb = np.vectorize(COLOUR_RGB.get, otypes=[np.uint8, np.uint8, np.uint8])\n",
    "\n",
    "\n"
   ]
  },
  {
   "cell_type": "code",
   "execution_count": 3,
   "metadata": {},
   "outputs": [],
   "source": [
    "def plot_predictions(model, lum=71, resolution=256):\n",
    "    \"\"\"\n",
    "    Create a slice of LAB colour space with given luminance; predict with the model; plot the results.\n",
    "    \"\"\"\n",
    "    wid = resolution\n",
    "    hei = resolution\n",
    "    n_ticks = 5\n",
    "\n",
    "    # create a hei*wid grid of LAB colour values, with L=lum\n",
    "    ag = np.linspace(-100, 100, wid)\n",
    "    bg = np.linspace(-100, 100, hei)\n",
    "    aa, bb = np.meshgrid(ag, bg)\n",
    "    ll = lum * np.ones((hei, wid))\n",
    "    lab_grid = np.stack([ll, aa, bb], axis=2)\n",
    "\n",
    "    # convert to RGB for consistency with original input\n",
    "    X_grid = lab2rgb(lab_grid)\n",
    "\n",
    "    # predict and convert predictions to colours so we can see what's happening\n",
    "    y_grid = model.predict(X_grid.reshape((wid*hei, 3)))\n",
    "    pixels = np.stack(name_to_rgb(y_grid), axis=1) / 255\n",
    "    pixels = pixels.reshape((hei, wid, 3))\n",
    "\n",
    "    # plot input and predictions\n",
    "    plt.figure(figsize=(10, 5))\n",
    "    plt.suptitle('Predictions at L=%g' % (lum,))\n",
    "    plt.subplot(1, 2, 1)\n",
    "    plt.title('Inputs')\n",
    "    plt.xticks(np.linspace(0, wid, n_ticks), np.linspace(-100, 100, n_ticks))\n",
    "    plt.yticks(np.linspace(0, hei, n_ticks), np.linspace(-100, 100, n_ticks))\n",
    "    plt.xlabel('A')\n",
    "    plt.ylabel('B')\n",
    "    plt.imshow(X_grid.reshape((hei, wid, 3)))\n",
    "\n",
    "    plt.subplot(1, 2, 2)\n",
    "    plt.title('Predicted Labels')\n",
    "    plt.xticks(np.linspace(0, wid, n_ticks), np.linspace(-100, 100, n_ticks))\n",
    "    plt.yticks(np.linspace(0, hei, n_ticks), np.linspace(-100, 100, n_ticks))\n",
    "    plt.xlabel('A')\n",
    "    plt.imshow(pixels)\n"
   ]
  },
  {
   "cell_type": "code",
   "execution_count": 4,
   "metadata": {
    "scrolled": true
   },
   "outputs": [
    {
     "name": "stdout",
     "output_type": "stream",
     "text": [
      "[[168 211 243 'blue' 'good']\n",
      " [37 32 40 'black' 'perfect']\n",
      " [35 34 38 'black' 'perfect']\n",
      " ...\n",
      " [26 166 196 'blue' 'good']\n",
      " [7 127 57 'green' 'perfect']\n",
      " [118 146 30 'green' 'poor']]\n"
     ]
    }
   ],
   "source": [
    "\n",
    "def rgb_to_leg_converter(rgb_color):\n",
    "    import skimage.color as skc\n",
    "    r1 = rgb_color.reshape((-1, 1, 3))\n",
    "    lab_colours = skc.rgb2lab(r1)\n",
    "    return lab_colours.reshape(-1, 3)\n",
    "\n",
    "def main():\n",
    "    sys.argv[1] = \"colour-data.csv\"\n",
    "    data = pd.read_csv(sys.argv[1])\n",
    "    data[['R','G','B']]\n",
    "    X = data[['R', 'G', 'B']].values / 255\n",
    "    y = data['Label'].values\n",
    "    print (data.values)\n",
    "    #return\n",
    "\n",
    "    X_train, X_test, y_train, y_test = train_test_split(X, y)\n",
    "\n",
    "    # TODO: build model_rgb to predict y from X.\n",
    "    # TODO: print model_rgb's accuracy_score\n",
    "    bayes_rgb_model = GaussianNB()\n",
    "    \n",
    "    model_rgb = bayes_rgb_model.fit(X_train, y_train)\n",
    "    model_rgb_labels = model_rgb.predict(X)\n",
    "    \n",
    "\n",
    "\n",
    "    # TODO: build model_lab to predict y from X by converting to LAB colour first.\n",
    "    # TODO: print model_lab's accuracy_score\n",
    "    Xp_train, Xp_test, yp_train, yp_test = train_test_split(X, y)\n",
    "    Xp_train = Xp_train.reshape((-1, 1, 3))\n",
    "    yp_train = yp_train.reshape((-1, 1, 3))\n",
    "    pipeline = make_pipeline(\n",
    "        FunctionTransformer(rgb_to_leg_converter), \n",
    "        GaussianNB(priors=None))\n",
    "    \n",
    "    Xp = X.copy(deep = True)\n",
    "    model_lab = pipeline.fit(Xp, y)\n",
    "\n",
    "    plot_predictions(model_rgb_labels)\n",
    "    plt.savefig('predictions_rgb.png')\n",
    "    plot_predictions(model_lab)\n",
    "    plt.savefig('predictions_lab.png')\n",
    "\n",
    "\n",
    "if __name__ == '__main__':\n",
    "    main()\n"
   ]
  },
  {
   "cell_type": "code",
   "execution_count": null,
   "metadata": {},
   "outputs": [],
   "source": []
  },
  {
   "cell_type": "code",
   "execution_count": null,
   "metadata": {},
   "outputs": [],
   "source": []
  },
  {
   "cell_type": "code",
   "execution_count": null,
   "metadata": {},
   "outputs": [],
   "source": []
  }
 ],
 "metadata": {
  "kernelspec": {
   "display_name": "Python 3",
   "language": "python",
   "name": "python3"
  },
  "language_info": {
   "codemirror_mode": {
    "name": "ipython",
    "version": 3
   },
   "file_extension": ".py",
   "mimetype": "text/x-python",
   "name": "python",
   "nbconvert_exporter": "python",
   "pygments_lexer": "ipython3",
   "version": "3.6.4"
  }
 },
 "nbformat": 4,
 "nbformat_minor": 2
}
