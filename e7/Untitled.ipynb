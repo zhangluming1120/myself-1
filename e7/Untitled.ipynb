{
 "cells": [
  {
   "cell_type": "code",
   "execution_count": 93,
   "metadata": {},
   "outputs": [],
   "source": [
    "import numpy as np\n",
    "import pandas as pd\n",
    "import matplotlib.pyplot as plt\n",
    "import sys\n",
    "from pykalman import KalmanFilter\n",
    "from sklearn import datasets, linear_model"
   ]
  },
  {
   "cell_type": "code",
   "execution_count": 86,
   "metadata": {},
   "outputs": [],
   "source": [
    "X_columns = ['temperature', 'cpu_percent', 'fan_rpm', 'sys_load_1']\n",
    "y_column = 'next_temp'\n",
    "\n",
    "\n",
    "def get_data(filename):\n",
    "    \"\"\"\n",
    "    Read the given CSV file. Returns sysinfo DataFrames for training and testing.\n",
    "    \"\"\"\n",
    "    sysinfo = pd.read_csv(filename, parse_dates=['timestamp'])\n",
    "    \n",
    "    # TODO: add the column that we want to predict: the temperatures from the *next* time step.\n",
    "    sysinfo[y_column] = sysinfo['temperature'].shift(1)  # should be the temperature value from the next row\n",
    "    sysinfo = sysinfo[sysinfo[y_column].notnull()] # the last row should have y_column null: no next temp known\n",
    "\n",
    "\n",
    "    \n",
    "    # return most of the data to train, and pick an interesting segment to test\n",
    "    split1 = int(sysinfo.shape[0] * 0.8)\n",
    "    split2 = int(sysinfo.shape[0] * 0.84)\n",
    "    train = sysinfo.iloc[:split1, :]\n",
    "    test = sysinfo.iloc[split1:split2, :]\n",
    "    \n",
    "    return train, test"
   ]
  },
  {
   "cell_type": "code",
   "execution_count": 87,
   "metadata": {},
   "outputs": [],
   "source": [
    "def get_trained_coefficients(X_train, y_train):\n",
    "    \"\"\"\n",
    "    Create and train a model based on the training_data_file data.\n",
    "\n",
    "    Return the model, and the list of coefficients for the 'X_columns' variables in the regression.\n",
    "    \"\"\"\n",
    "    \n",
    "    # TODO: create regression model and train.\n",
    "    regr = linear_model.LinearRegression()\n",
    "    regr.fit(X_train, y_train)\n",
    "    model = regr\n",
    "    coefficients = regr.coef_\n",
    "    return model, coefficients"
   ]
  },
  {
   "cell_type": "code",
   "execution_count": 88,
   "metadata": {},
   "outputs": [],
   "source": [
    "def output_regression(coefficients):\n",
    "    regress = ' + '.join('%.3g*%s' % (coef, col) for col, coef in zip(X_columns, coefficients))\n",
    "    print('next_temp = ' + regress)"
   ]
  },
  {
   "cell_type": "code",
   "execution_count": 89,
   "metadata": {},
   "outputs": [],
   "source": [
    "def plot_errors(model, X_test, y_test):\n",
    "    plt.hist(y_test - model.predict(X_test), bins=100)\n",
    "    plt.savefig('test_errors.png')"
   ]
  },
  {
   "cell_type": "code",
   "execution_count": 90,
   "metadata": {},
   "outputs": [],
   "source": [
    "def smooth_test(coef, sysinfo):\n",
    "    X_test, y_test = sysinfo[X_columns], sysinfo[y_column]\n",
    "    \n",
    "    # feel free to tweak these if you think it helps.\n",
    "    transition_stddev = 2.0\n",
    "    observation_stddev = 2.0\n",
    "\n",
    "    dims = X_test.shape[-1]\n",
    "    initial = X_test.iloc[0]\n",
    "    observation_covariance = np.diag([observation_stddev, 2, 10, 1]) ** 2\n",
    "    transition_covariance = np.diag([transition_stddev, 80, 100, 10]) ** 2\n",
    "    \n",
    "    # Transition = identity for all variables, except we'll replace the top row\n",
    "    # to make a better prediction, which was the point of all this.\n",
    "    transition = np.eye(dims) # identity matrix, except...\n",
    "    \n",
    "    # TODO: replace the first row of transition to use the coefficients we just calculated (which were passed into this function as coef.).\n",
    "\n",
    "    kf = KalmanFilter(\n",
    "        initial_state_mean=initial,\n",
    "        initial_state_covariance=observation_covariance,\n",
    "        observation_covariance=observation_covariance,\n",
    "        transition_covariance=transition_covariance,\n",
    "        transition_matrices=transition,\n",
    "    )\n",
    "\n",
    "    kalman_smoothed, _ = kf.smooth(X_test)\n",
    "\n",
    "    plt.figure(figsize=(15, 6))\n",
    "    plt.plot(sysinfo['timestamp'], sysinfo['temperatregressRFure'], 'b.', alpha=0.5)\n",
    "    plt.plot(sysinfo['timestamp'], kalman_smoothed[:, 0], 'g-')\n",
    "    plt.savefig('smoothed.png')\n"
   ]
  },
  {
   "cell_type": "code",
   "execution_count": 95,
   "metadata": {
    "scrolled": true
   },
   "outputs": [
    {
     "name": "stdout",
     "output_type": "stream",
     "text": [
      "next_temp = 0.611*temperature + 0.0125*cpu_percent + 0.0325*fan_rpm + 1.2*sys_load_1\n",
      "Training score: 0.863376\n",
      "Testing score: 0.57262\n"
     ]
    }
   ],
   "source": [
    "def main():\n",
    "    sys.argv[1] = 'sysinfo.csv'\n",
    "    train, test = get_data(sys.argv[1])\n",
    "    \n",
    "    X_train, y_train = train[X_columns], train[y_column]\n",
    "    X_test, y_test = test[X_columns], test[y_column]\n",
    "    \n",
    "\n",
    "    model, coefficients = get_trained_coefficients(X_train, y_train)\n",
    "    output_regression(coefficients)\n",
    "    print(\"Training score: %g\\nTesting score: %g\" % (model.score(X_train, y_train), model.score(X_test, y_test)))\n",
    "    return\n",
    "    plot_errors(model, X_test, y_test)\n",
    "    smooth_test(coefficients, test)\n",
    "\n",
    "\n",
    "if __name__ == '__main__':\n",
    "    main()"
   ]
  },
  {
   "cell_type": "code",
   "execution_count": null,
   "metadata": {},
   "outputs": [],
   "source": []
  },
  {
   "cell_type": "code",
   "execution_count": null,
   "metadata": {},
   "outputs": [],
   "source": []
  }
 ],
 "metadata": {
  "kernelspec": {
   "display_name": "Python 3",
   "language": "python",
   "name": "python3"
  },
  "language_info": {
   "codemirror_mode": {
    "name": "ipython",
    "version": 3
   },
   "file_extension": ".py",
   "mimetype": "text/x-python",
   "name": "python",
   "nbconvert_exporter": "python",
   "pygments_lexer": "ipython3",
   "version": "3.6.4"
  }
 },
 "nbformat": 4,
 "nbformat_minor": 2
}
