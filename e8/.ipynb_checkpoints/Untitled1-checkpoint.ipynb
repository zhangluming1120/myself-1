{
 "cells": [
  {
   "cell_type": "code",
   "execution_count": 9,
   "metadata": {},
   "outputs": [],
   "source": [
    "import numpy as np\n",
    "import pandas as pd\n",
    "import matplotlib.pyplot as plt\n",
    "from skimage.color import lab2rgb\n",
    "import sys\n",
    "\n",
    "from sklearn.naive_bayes import GaussianNB\n",
    "from sklearn.preprocessing import FunctionTransformer\n",
    "from sklearn.pipeline import make_pipeline\n",
    "from sklearn.svm import SVC\n",
    "from sklearn.neighbors import KNeighborsClassifier\n",
    "\n",
    "from sklearn.model_selection import train_test_split\n",
    "\n",
    "from sklearn.preprocessing import StandardScaler"
   ]
  },
  {
   "cell_type": "code",
   "execution_count": 45,
   "metadata": {
    "scrolled": true
   },
   "outputs": [
    {
     "name": "stdout",
     "output_type": "stream",
     "text": [
      "Bayesian classifier: 0.669\n",
      "kNN classifier:      0.572\n",
      "SVM classifier:      0.693\n",
      "\n"
     ]
    }
   ],
   "source": [
    "OUTPUT_TEMPLATE = (\n",
    "    'Bayesian classifier: {bayes:.3g}\\n'\n",
    "    'kNN classifier:      {knn:.3g}\\n'\n",
    "    'SVM classifier:      {svm:.3g}\\n'\n",
    ")\n",
    "\n",
    "\n",
    "filename1 = 'monthly-data-labelled.csv'\n",
    "filename2 = 'monthly-data-unlabelled.csv'\n",
    "filename3 = 'sample-labels.csv'\n",
    "#filename1 = sys.argv[1]\n",
    "#filename2 = sys.argv[2]\n",
    "#filename3 = sys.argv[3]\n",
    "\n",
    "labeled = pd.read_csv(filename1)\n",
    "unlabeled = pd.read_csv(filename2)\n",
    "labeled = labeled.drop (['year'], axis=1)\n",
    "X = labeled.drop(['city'], axis = 1).values\n",
    "y = labeled['city'].values\n",
    "X_train, X_test, y_train, y_test = train_test_split(X, y)\n",
    "bayes_model = GaussianNB()\n",
    "knn_model = KNeighborsClassifier(n_neighbors=5)\n",
    "svc_model = SVC(kernel='linear', decision_function_shape='ovr')\n",
    "models = [bayes_model, knn_model, svc_model]\n",
    "for i, m in enumerate(models):  # yes, you can leave this loop in if you want.\n",
    "        m.fit(X_train, y_train)\n",
    "    \n",
    "print(OUTPUT_TEMPLATE.format(\n",
    "        bayes = bayes_model.score(X_test, y_test),\n",
    "        knn=knn_model.score(X_test, y_test),\n",
    "        svm=svc_model.score(X_test, y_test),\n",
    "    ))\n",
    "#svc_model.predict()\n",
    "X_ = unlabeled.drop(['city', 'year'], axis = 1).values\n",
    "\n",
    "predictions = svc_model.predict(X_)\n",
    "pd.Series(predictions).to_csv(filename3, index=False)"
   ]
  },
  {
   "cell_type": "code",
   "execution_count": 46,
   "metadata": {
    "scrolled": true
   },
   "outputs": [
    {
     "name": "stdout",
     "output_type": "stream",
     "text": [
      "         prediction          truth\n",
      "3           Toronto         London\n",
      "7            London         Ottawa\n",
      "8            London         Ottawa\n",
      "14           Regina      Saskatoon\n",
      "20      Los Angeles  San Francisco\n",
      "30           Ottawa       Montreal\n",
      "35          Toronto         London\n",
      "36         Edmonton      Saskatoon\n",
      "56         Portland        Seattle\n",
      "115        Edmonton         Regina\n",
      "129       Saskatoon         Regina\n",
      "133          Ottawa       Montreal\n",
      "148        Portland        Seattle\n",
      "152          Regina      Saskatoon\n",
      "156       Saskatoon         Regina\n",
      "190  Raleigh Durham        Atlanta\n",
      "191  Raleigh Durham        Atlanta\n",
      "199        Winnipeg         Regina\n",
      "202        Victoria        Seattle\n",
      "206          Regina       Edmonton\n",
      "210         Seattle       Portland\n",
      "228          Regina      Saskatoon\n",
      "231       Saskatoon         Regina\n",
      "233       Vancouver        Seattle\n",
      "234  Raleigh Durham        Atlanta\n",
      "241        Edmonton      Saskatoon\n",
      "242          Regina      Saskatoon\n",
      "262          Regina       Winnipeg\n",
      "270  Raleigh Durham        Atlanta\n",
      "273   Atlantic City        Chicago\n",
      "283          London        Toronto\n",
      "288        Victoria        Seattle\n"
     ]
    }
   ],
   "source": [
    "df = pd.DataFrame({'truth': y_test, 'prediction': model.predict(X_test)})\n",
    "print(df[df['truth'] != df['prediction']])"
   ]
  },
  {
   "cell_type": "code",
   "execution_count": null,
   "metadata": {},
   "outputs": [],
   "source": [
    "labeled = labeled.drop(['year'], axis=1)\n",
    "X = labeled.copy().drop(['city'], axis=1).values\n",
    "y = labeled['city'].values\n",
    "X_train, X_test, y_train, y_test = train_test_split(X, y)\n",
    "model = make_pipeline(\n",
    "    StandardScaler(),\n",
    "    SVC(kernel='linear', decision_function_shape='ovr')\n",
    ")\n",
    "model.fit(X_train, y_train)\n",
    "test_data = unlabeled.drop(['year', 'city'], axis=1).values\n",
    "predictions = model.predict(test_data)\n",
    "df = pd.DataFrame({'truth': y_test, 'prediction': model.predict(X_test)})\n",
    "test = df[df['truth'] != df['prediction']]\n",
    "pd.Series(predictions).to_csv(filename3, index=False)"
   ]
  },
  {
   "cell_type": "code",
   "execution_count": null,
   "metadata": {},
   "outputs": [],
   "source": []
  }
 ],
 "metadata": {
  "kernelspec": {
   "display_name": "Python 3",
   "language": "python",
   "name": "python3"
  },
  "language_info": {
   "codemirror_mode": {
    "name": "ipython",
    "version": 3
   },
   "file_extension": ".py",
   "mimetype": "text/x-python",
   "name": "python",
   "nbconvert_exporter": "python",
   "pygments_lexer": "ipython3",
   "version": "3.6.4"
  }
 },
 "nbformat": 4,
 "nbformat_minor": 2
}
